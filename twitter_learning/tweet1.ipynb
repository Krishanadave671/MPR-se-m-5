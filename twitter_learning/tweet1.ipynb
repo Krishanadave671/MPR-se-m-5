{
 "cells": [
  {
   "cell_type": "code",
   "execution_count": 45,
   "metadata": {},
   "outputs": [
    {
     "ename": "ImportError",
     "evalue": "cannot import name 'ACCESS_TOKEN' from 'twitter_credentials' (c:\\Users\\krish\\Desktop\\SEM-5\\MPR\\twitter_learning\\twitter_credentials.py)",
     "output_type": "error",
     "traceback": [
      "\u001b[1;31m---------------------------------------------------------------------------\u001b[0m",
      "\u001b[1;31mImportError\u001b[0m                               Traceback (most recent call last)",
      "\u001b[1;32mc:\\Users\\krish\\Desktop\\SEM-5\\MPR\\twitter_learning\\tweet1.ipynb Cell 1\u001b[0m in \u001b[0;36m<cell line: 3>\u001b[1;34m()\u001b[0m\n\u001b[0;32m      <a href='vscode-notebook-cell:/c%3A/Users/krish/Desktop/SEM-5/MPR/twitter_learning/tweet1.ipynb#W0sZmlsZQ%3D%3D?line=0'>1</a>\u001b[0m \u001b[39mfrom\u001b[39;00m \u001b[39mtweepy\u001b[39;00m \u001b[39mimport\u001b[39;00m OAuthHandler\n\u001b[0;32m      <a href='vscode-notebook-cell:/c%3A/Users/krish/Desktop/SEM-5/MPR/twitter_learning/tweet1.ipynb#W0sZmlsZQ%3D%3D?line=1'>2</a>\u001b[0m \u001b[39mfrom\u001b[39;00m \u001b[39mtweepy\u001b[39;00m \u001b[39mimport\u001b[39;00m Stream\n\u001b[1;32m----> <a href='vscode-notebook-cell:/c%3A/Users/krish/Desktop/SEM-5/MPR/twitter_learning/tweet1.ipynb#W0sZmlsZQ%3D%3D?line=2'>3</a>\u001b[0m \u001b[39mfrom\u001b[39;00m \u001b[39mtwitter_credentials\u001b[39;00m \u001b[39mimport\u001b[39;00m ACCESS_TOKEN\n",
      "\u001b[1;31mImportError\u001b[0m: cannot import name 'ACCESS_TOKEN' from 'twitter_credentials' (c:\\Users\\krish\\Desktop\\SEM-5\\MPR\\twitter_learning\\twitter_credentials.py)"
     ]
    }
   ],
   "source": [
    "from tweepy import OAuthHandler\n",
    "from tweepy import Stream\n",
    "from twitter_credentials import ACCESS_TOKEN"
   ]
  },
  {
   "cell_type": "code",
   "execution_count": 42,
   "metadata": {},
   "outputs": [],
   "source": [
    "class TwitterStreamer():\n",
    "    \"\"\"\n",
    "    Class for streaming and processing live tweets.\n",
    "    \"\"\"\n",
    "    def __init__(self):\n",
    "        pass\n",
    "\n",
    "    def stream_tweets(self, fetched_tweets_filename, hash_tag_list):\n",
    "        # This handles Twitter authetification and the connection to Twitter Streaming API\n",
    "        listener = StdOutListener(fetched_tweets_filename)\n",
    "        auth = OAuthHandler(CONSUMER_KEY, CONSUMER_SECRET)\n",
    "        auth.set_access_token(ACCESS_TOKEN, ACCESS_TOKEN_SECRET)\n",
    "        stream = Stream(auth, listener)\n",
    "\n",
    "        # This line filter Twitter Streams to capture data by the keywords: \n",
    "        stream.filter(track=hash_tag_list)\n"
   ]
  },
  {
   "cell_type": "code",
   "execution_count": 43,
   "metadata": {},
   "outputs": [],
   "source": [
    "class StdOutListener(Stream):\n",
    "    \"\"\"\n",
    "    This is a basic listener that just prints received tweets to stdout.\n",
    "    \"\"\"\n",
    "    def __init__(self, fetched_tweets_filename):\n",
    "        self.fetched_tweets_filename = fetched_tweets_filename\n",
    "\n",
    "    def on_data(self, data):\n",
    "        try:\n",
    "            print(data)\n",
    "            with open(self.fetched_tweets_filename, 'a') as tf:\n",
    "                tf.write(data)\n",
    "            return True\n",
    "        except BaseException as e:\n",
    "            print(\"Error on_data %s\" % str(e))\n",
    "        return True\n",
    "          \n",
    "\n",
    "    def on_error(self, status):\n",
    "        print(status)"
   ]
  },
  {
   "cell_type": "code",
   "execution_count": 44,
   "metadata": {},
   "outputs": [
    {
     "ename": "NameError",
     "evalue": "name 'ACCESS_TOKEN' is not defined",
     "output_type": "error",
     "traceback": [
      "\u001b[1;31m---------------------------------------------------------------------------\u001b[0m",
      "\u001b[1;31mNameError\u001b[0m                                 Traceback (most recent call last)",
      "\u001b[1;32mc:\\Users\\krish\\Desktop\\SEM-5\\MPR\\twitter_learning\\tweet1.ipynb Cell 4\u001b[0m in \u001b[0;36m<cell line: 1>\u001b[1;34m()\u001b[0m\n\u001b[0;32m      <a href='vscode-notebook-cell:/c%3A/Users/krish/Desktop/SEM-5/MPR/twitter_learning/tweet1.ipynb#W3sZmlsZQ%3D%3D?line=4'>5</a>\u001b[0m fetched_tweets_filename \u001b[39m=\u001b[39m \u001b[39m\"\u001b[39m\u001b[39mtweets.txt\u001b[39m\u001b[39m\"\u001b[39m\n\u001b[0;32m      <a href='vscode-notebook-cell:/c%3A/Users/krish/Desktop/SEM-5/MPR/twitter_learning/tweet1.ipynb#W3sZmlsZQ%3D%3D?line=6'>7</a>\u001b[0m twitter_streamer \u001b[39m=\u001b[39m TwitterStreamer()\n\u001b[1;32m----> <a href='vscode-notebook-cell:/c%3A/Users/krish/Desktop/SEM-5/MPR/twitter_learning/tweet1.ipynb#W3sZmlsZQ%3D%3D?line=7'>8</a>\u001b[0m twitter_streamer\u001b[39m.\u001b[39;49mstream_tweets(fetched_tweets_filename, hash_tag_list)\n",
      "\u001b[1;32mc:\\Users\\krish\\Desktop\\SEM-5\\MPR\\twitter_learning\\tweet1.ipynb Cell 4\u001b[0m in \u001b[0;36mTwitterStreamer.stream_tweets\u001b[1;34m(self, fetched_tweets_filename, hash_tag_list)\u001b[0m\n\u001b[0;32m     <a href='vscode-notebook-cell:/c%3A/Users/krish/Desktop/SEM-5/MPR/twitter_learning/tweet1.ipynb#W3sZmlsZQ%3D%3D?line=9'>10</a>\u001b[0m listener \u001b[39m=\u001b[39m StdOutListener(fetched_tweets_filename)\n\u001b[0;32m     <a href='vscode-notebook-cell:/c%3A/Users/krish/Desktop/SEM-5/MPR/twitter_learning/tweet1.ipynb#W3sZmlsZQ%3D%3D?line=10'>11</a>\u001b[0m auth \u001b[39m=\u001b[39m OAuthHandler(CONSUMER_KEY, CONSUMER_SECRET)\n\u001b[1;32m---> <a href='vscode-notebook-cell:/c%3A/Users/krish/Desktop/SEM-5/MPR/twitter_learning/tweet1.ipynb#W3sZmlsZQ%3D%3D?line=11'>12</a>\u001b[0m auth\u001b[39m.\u001b[39mset_access_token(ACCESS_TOKEN, ACCESS_TOKEN_SECRET)\n\u001b[0;32m     <a href='vscode-notebook-cell:/c%3A/Users/krish/Desktop/SEM-5/MPR/twitter_learning/tweet1.ipynb#W3sZmlsZQ%3D%3D?line=12'>13</a>\u001b[0m stream \u001b[39m=\u001b[39m Stream(auth, listener)\n\u001b[0;32m     <a href='vscode-notebook-cell:/c%3A/Users/krish/Desktop/SEM-5/MPR/twitter_learning/tweet1.ipynb#W3sZmlsZQ%3D%3D?line=14'>15</a>\u001b[0m \u001b[39m# This line filter Twitter Streams to capture data by the keywords: \u001b[39;00m\n",
      "\u001b[1;31mNameError\u001b[0m: name 'ACCESS_TOKEN' is not defined"
     ]
    }
   ],
   "source": [
    "if __name__ == '__main__':\n",
    "     \n",
    "    # Authenticate using config.py and connect to Twitter Streaming API.\n",
    "    hash_tag_list = [\"Mumbaitrafficupdates\"]\n",
    "    fetched_tweets_filename = \"tweets.txt\"\n",
    "\n",
    "    twitter_streamer = TwitterStreamer()\n",
    "    twitter_streamer.stream_tweets(fetched_tweets_filename, hash_tag_list)"
   ]
  }
 ],
 "metadata": {
  "kernelspec": {
   "display_name": "Python 3.10.5 64-bit",
   "language": "python",
   "name": "python3"
  },
  "language_info": {
   "codemirror_mode": {
    "name": "ipython",
    "version": 3
   },
   "file_extension": ".py",
   "mimetype": "text/x-python",
   "name": "python",
   "nbconvert_exporter": "python",
   "pygments_lexer": "ipython3",
   "version": "3.10.5"
  },
  "orig_nbformat": 4,
  "vscode": {
   "interpreter": {
    "hash": "26de051ba29f2982a8de78e945f0abaf191376122a1563185a90213a26c5da77"
   }
  }
 },
 "nbformat": 4,
 "nbformat_minor": 2
}
