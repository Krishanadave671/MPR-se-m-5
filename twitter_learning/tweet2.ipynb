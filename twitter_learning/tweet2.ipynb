{
 "cells": [
  {
   "cell_type": "code",
   "execution_count": 2,
   "metadata": {},
   "outputs": [],
   "source": [
    "from tweepy import OAuthHandler\n",
    "from tweepy import Stream\n",
    "from twitter_credentials import * "
   ]
  },
  {
   "cell_type": "code",
   "execution_count": 3,
   "metadata": {},
   "outputs": [],
   "source": [
    "class TwitterStreamer():\n",
    "    \"\"\"\n",
    "    Class for streaming and processing live tweets.\n",
    "    \"\"\"\n",
    "    def __init__(self):\n",
    "        pass\n",
    "\n",
    "    def stream_tweets(self, fetched_tweets_filename, hash_tag_list):\n",
    "        # This handles Twitter authetification and the connection to Twitter Streaming API\n",
    "        listener = StdOutListener(fetched_tweets_filename)\n",
    "        auth = OAuthHandler(CONSUMER_KEY, CONSUMER_SECRET)\n",
    "        auth.set_access_token(ACCESS_TOKEN, ACCESS_TOKEN_SECRET)\n",
    "        stream = Stream(auth, listener , access_token= ACCESS_TOKEN , access_token_secret= ACCESS_TOKEN_SECRET)\n",
    "\n",
    "        # This line filter Twitter Streams to capture data by the keywords: \n",
    "        stream.filter(track=hash_tag_list)"
   ]
  },
  {
   "cell_type": "code",
   "execution_count": 4,
   "metadata": {},
   "outputs": [],
   "source": [
    "class StdOutListener(Stream):\n",
    "    \"\"\"\n",
    "    This is a basic listener that just prints received tweets to stdout.\n",
    "    \"\"\"\n",
    "    def __init__(self, fetched_tweets_filename ):\n",
    "        self.fetched_tweets_filename = fetched_tweets_filename\n",
    "\n",
    "    def on_data(self, data):\n",
    "        try:\n",
    "            print(data)\n",
    "            with open(self.fetched_tweets_filename, 'a') as tf:\n",
    "                tf.write(data)\n",
    "            return True\n",
    "        except BaseException as e:\n",
    "            print(\"Error on_data %s\" % str(e))\n",
    "        return True\n",
    "          \n",
    "\n",
    "    def on_error(self, status):\n",
    "        print(status)"
   ]
  },
  {
   "cell_type": "code",
   "execution_count": 5,
   "metadata": {},
   "outputs": [
    {
     "name": "stderr",
     "output_type": "stream",
     "text": [
      "Stream encountered an exception\n",
      "Traceback (most recent call last):\n",
      "  File \"C:\\Users\\krish\\AppData\\Roaming\\Python\\Python310\\site-packages\\tweepy\\streaming.py\", line 73, in _connect\n",
      "    with self.session.request(\n",
      "  File \"C:\\Users\\krish\\AppData\\Roaming\\Python\\Python310\\site-packages\\requests\\sessions.py\", line 515, in request\n",
      "    prep = self.prepare_request(req)\n",
      "  File \"C:\\Users\\krish\\AppData\\Roaming\\Python\\Python310\\site-packages\\requests\\sessions.py\", line 443, in prepare_request\n",
      "    p.prepare(\n",
      "  File \"C:\\Users\\krish\\AppData\\Roaming\\Python\\Python310\\site-packages\\requests\\models.py\", line 322, in prepare\n",
      "    self.prepare_auth(auth, url)\n",
      "  File \"C:\\Users\\krish\\AppData\\Roaming\\Python\\Python310\\site-packages\\requests\\models.py\", line 558, in prepare_auth\n",
      "    r = auth(self)\n",
      "  File \"C:\\Users\\krish\\AppData\\Roaming\\Python\\Python310\\site-packages\\requests_oauthlib\\oauth1_auth.py\", line 98, in __call__\n",
      "    r.url, headers, r.body = self.client.sign(\n",
      "  File \"C:\\Users\\krish\\AppData\\Roaming\\Python\\Python310\\site-packages\\oauthlib\\oauth1\\rfc5849\\__init__.py\", line 351, in sign\n",
      "    ('oauth_signature', self.get_oauth_signature(request)))\n",
      "  File \"C:\\Users\\krish\\AppData\\Roaming\\Python\\Python310\\site-packages\\oauthlib\\oauth1\\rfc5849\\__init__.py\", line 165, in get_oauth_signature\n",
      "    uri, headers, body = self._render(request)\n",
      "  File \"C:\\Users\\krish\\AppData\\Roaming\\Python\\Python310\\site-packages\\oauthlib\\oauth1\\rfc5849\\__init__.py\", line 247, in _render\n",
      "    headers = parameters.prepare_headers(\n",
      "  File \"C:\\Users\\krish\\AppData\\Roaming\\Python\\Python310\\site-packages\\oauthlib\\oauth1\\rfc5849\\utils.py\", line 25, in wrapper\n",
      "    return target(params, *args, **kwargs)\n",
      "  File \"C:\\Users\\krish\\AppData\\Roaming\\Python\\Python310\\site-packages\\oauthlib\\oauth1\\rfc5849\\parameters.py\", line 53, in prepare_headers\n",
      "    escaped_value = utils.escape(value)\n",
      "  File \"C:\\Users\\krish\\AppData\\Roaming\\Python\\Python310\\site-packages\\oauthlib\\oauth1\\rfc5849\\utils.py\", line 49, in escape\n",
      "    raise ValueError('Only unicode objects are escapable. ' +\n",
      "ValueError: Only unicode objects are escapable. Got <tweepy.auth.OAuthHandler object at 0x000001FE4CE69DE0> of type <class 'tweepy.auth.OAuthHandler'>.\n"
     ]
    }
   ],
   "source": [
    "if __name__ == '__main__':\n",
    "     \n",
    "    # Authenticate using config.py and connect to Twitter Streaming API.\n",
    "    hash_tag_list = [\"Mumbaitrafficupdates\"]\n",
    "    fetched_tweets_filename = \"tweets.txt\"\n",
    "\n",
    "    twitter_streamer = TwitterStreamer()\n",
    "    twitter_streamer.stream_tweets(fetched_tweets_filename, hash_tag_list)"
   ]
  },
  {
   "cell_type": "code",
   "execution_count": null,
   "metadata": {},
   "outputs": [],
   "source": []
  }
 ],
 "metadata": {
  "kernelspec": {
   "display_name": "Python 3.10.5 64-bit",
   "language": "python",
   "name": "python3"
  },
  "language_info": {
   "codemirror_mode": {
    "name": "ipython",
    "version": 3
   },
   "file_extension": ".py",
   "mimetype": "text/x-python",
   "name": "python",
   "nbconvert_exporter": "python",
   "pygments_lexer": "ipython3",
   "version": "3.10.5"
  },
  "orig_nbformat": 4,
  "vscode": {
   "interpreter": {
    "hash": "26de051ba29f2982a8de78e945f0abaf191376122a1563185a90213a26c5da77"
   }
  }
 },
 "nbformat": 4,
 "nbformat_minor": 2
}
