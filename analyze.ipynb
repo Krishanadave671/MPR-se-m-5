{
 "cells": [
  {
   "cell_type": "code",
   "execution_count": 11,
   "metadata": {},
   "outputs": [
    {
     "name": "stderr",
     "output_type": "stream",
     "text": [
      "[nltk_data] Downloading package maxent_ne_chunker to\n",
      "[nltk_data]     C:\\Users\\krish\\AppData\\Roaming\\nltk_data...\n",
      "[nltk_data]   Package maxent_ne_chunker is already up-to-date!\n",
      "[nltk_data] Downloading package words to\n",
      "[nltk_data]     C:\\Users\\krish\\AppData\\Roaming\\nltk_data...\n",
      "[nltk_data]   Package words is already up-to-date!\n",
      "[nltk_data] Downloading package treebank to\n",
      "[nltk_data]     C:\\Users\\krish\\AppData\\Roaming\\nltk_data...\n",
      "[nltk_data]   Package treebank is already up-to-date!\n",
      "[nltk_data] Downloading package maxent_treebank_pos_tagger to\n",
      "[nltk_data]     C:\\Users\\krish\\AppData\\Roaming\\nltk_data...\n",
      "[nltk_data]   Package maxent_treebank_pos_tagger is already up-to-\n",
      "[nltk_data]       date!\n",
      "[nltk_data] Downloading package punkt to\n",
      "[nltk_data]     C:\\Users\\krish\\AppData\\Roaming\\nltk_data...\n",
      "[nltk_data]   Package punkt is already up-to-date!\n",
      "[nltk_data] Downloading package averaged_perceptron_tagger to\n",
      "[nltk_data]     C:\\Users\\krish\\AppData\\Roaming\\nltk_data...\n",
      "[nltk_data]   Package averaged_perceptron_tagger is already up-to-\n",
      "[nltk_data]       date!\n"
     ]
    }
   ],
   "source": [
    "import pandas as pd \n",
    "import numpy as np \n",
    "import nltk\n",
    "import spacy\n",
    "nltk.downloader.download('maxent_ne_chunker')\n",
    "nltk.downloader.download('words')\n",
    "nltk.downloader.download('treebank')\n",
    "nltk.downloader.download('maxent_treebank_pos_tagger')\n",
    "nltk.downloader.download('punkt')\n",
    "nltk.download('averaged_perceptron_tagger')\n",
    "\n",
    "import locationtagger"
   ]
  },
  {
   "cell_type": "code",
   "execution_count": 12,
   "metadata": {},
   "outputs": [],
   "source": [
    "df = pd.read_csv('MTPHereToHelp2.csv')"
   ]
  },
  {
   "cell_type": "code",
   "execution_count": 15,
   "metadata": {},
   "outputs": [
    {
     "ename": "ArticleException",
     "evalue": "Article `download()` failed with No connection adapters were found for ':/@KawaTweets We have escalated your request with India Traffic Division for necessary action.' on URL :/@KawaTweets We have escalated your request with India Traffic Division for necessary action.",
     "output_type": "error",
     "traceback": [
      "\u001b[1;31m---------------------------------------------------------------------------\u001b[0m",
      "\u001b[1;31mArticleException\u001b[0m                          Traceback (most recent call last)",
      "\u001b[1;32mc:\\Users\\krish\\Desktop\\SEM-5\\MPR\\analyze.ipynb Cell 3\u001b[0m in \u001b[0;36m<cell line: 1>\u001b[1;34m()\u001b[0m\n\u001b[1;32m----> <a href='vscode-notebook-cell:/c%3A/Users/krish/Desktop/SEM-5/MPR/analyze.ipynb#X10sZmlsZQ%3D%3D?line=0'>1</a>\u001b[0m location \u001b[39m=\u001b[39m locationtagger\u001b[39m.\u001b[39;49mfind_locations(\u001b[39mstr\u001b[39;49m(\u001b[39m\"\u001b[39;49m\u001b[39m@KawaTweets We have escalated your request with India Traffic Division for necessary action.\u001b[39;49m\u001b[39m\"\u001b[39;49m))\u001b[39m.\u001b[39mother_countries\n",
      "File \u001b[1;32m~\\AppData\\Roaming\\Python\\Python310\\site-packages\\locationtagger\\__init__.py:5\u001b[0m, in \u001b[0;36mfind_locations\u001b[1;34m(url, text)\u001b[0m\n\u001b[0;32m      3\u001b[0m \u001b[39mdef\u001b[39;00m \u001b[39mfind_locations\u001b[39m(url\u001b[39m=\u001b[39m\u001b[39mNone\u001b[39;00m, text\u001b[39m=\u001b[39m\u001b[39mNone\u001b[39;00m):\n\u001b[0;32m      4\u001b[0m     e \u001b[39m=\u001b[39m NamedEntityExtractor(url\u001b[39m=\u001b[39murl, text\u001b[39m=\u001b[39mtext)\n\u001b[1;32m----> 5\u001b[0m     e\u001b[39m.\u001b[39;49mfind_named_entities()\n\u001b[0;32m      7\u001b[0m     locs \u001b[39m=\u001b[39m LocationExtractor(e\u001b[39m.\u001b[39mnamed_entities)\n\u001b[0;32m      8\u001b[0m     locs\u001b[39m.\u001b[39mset_countries()\n",
      "File \u001b[1;32m~\\AppData\\Roaming\\Python\\Python310\\site-packages\\locationtagger\\locationextractor.py:40\u001b[0m, in \u001b[0;36mNamedEntityExtractor.find_named_entities\u001b[1;34m(self)\u001b[0m\n\u001b[0;32m     39\u001b[0m \u001b[39mdef\u001b[39;00m \u001b[39mfind_named_entities\u001b[39m(\u001b[39mself\u001b[39m):\n\u001b[1;32m---> 40\u001b[0m     \u001b[39mself\u001b[39;49m\u001b[39m.\u001b[39;49mset_text()\n\u001b[0;32m     42\u001b[0m     text \u001b[39m=\u001b[39m nltk\u001b[39m.\u001b[39mword_tokenize(clean(\u001b[39mself\u001b[39m\u001b[39m.\u001b[39mtext))\n\u001b[0;32m     43\u001b[0m     nes \u001b[39m=\u001b[39m nltk\u001b[39m.\u001b[39mne_chunk(nltk\u001b[39m.\u001b[39mpos_tag(text))\n",
      "File \u001b[1;32m~\\AppData\\Roaming\\Python\\Python310\\site-packages\\locationtagger\\locationextractor.py:36\u001b[0m, in \u001b[0;36mNamedEntityExtractor.set_text\u001b[1;34m(self)\u001b[0m\n\u001b[0;32m     34\u001b[0m a \u001b[39m=\u001b[39m Article(\u001b[39mself\u001b[39m\u001b[39m.\u001b[39murl)\n\u001b[0;32m     35\u001b[0m a\u001b[39m.\u001b[39mdownload()\n\u001b[1;32m---> 36\u001b[0m a\u001b[39m.\u001b[39;49mparse()\n\u001b[0;32m     37\u001b[0m \u001b[39mself\u001b[39m\u001b[39m.\u001b[39mtext \u001b[39m=\u001b[39m a\u001b[39m.\u001b[39mtext\n",
      "File \u001b[1;32m~\\AppData\\Roaming\\Python\\Python310\\site-packages\\newspaper\\article.py:191\u001b[0m, in \u001b[0;36mArticle.parse\u001b[1;34m(self)\u001b[0m\n\u001b[0;32m    190\u001b[0m \u001b[39mdef\u001b[39;00m \u001b[39mparse\u001b[39m(\u001b[39mself\u001b[39m):\n\u001b[1;32m--> 191\u001b[0m     \u001b[39mself\u001b[39;49m\u001b[39m.\u001b[39;49mthrow_if_not_downloaded_verbose()\n\u001b[0;32m    193\u001b[0m     \u001b[39mself\u001b[39m\u001b[39m.\u001b[39mdoc \u001b[39m=\u001b[39m \u001b[39mself\u001b[39m\u001b[39m.\u001b[39mconfig\u001b[39m.\u001b[39mget_parser()\u001b[39m.\u001b[39mfromstring(\u001b[39mself\u001b[39m\u001b[39m.\u001b[39mhtml)\n\u001b[0;32m    194\u001b[0m     \u001b[39mself\u001b[39m\u001b[39m.\u001b[39mclean_doc \u001b[39m=\u001b[39m copy\u001b[39m.\u001b[39mdeepcopy(\u001b[39mself\u001b[39m\u001b[39m.\u001b[39mdoc)\n",
      "File \u001b[1;32m~\\AppData\\Roaming\\Python\\Python310\\site-packages\\newspaper\\article.py:531\u001b[0m, in \u001b[0;36mArticle.throw_if_not_downloaded_verbose\u001b[1;34m(self)\u001b[0m\n\u001b[0;32m    529\u001b[0m     \u001b[39mraise\u001b[39;00m ArticleException(\u001b[39m'\u001b[39m\u001b[39mYou must `download()` an article first!\u001b[39m\u001b[39m'\u001b[39m)\n\u001b[0;32m    530\u001b[0m \u001b[39melif\u001b[39;00m \u001b[39mself\u001b[39m\u001b[39m.\u001b[39mdownload_state \u001b[39m==\u001b[39m ArticleDownloadState\u001b[39m.\u001b[39mFAILED_RESPONSE:\n\u001b[1;32m--> 531\u001b[0m     \u001b[39mraise\u001b[39;00m ArticleException(\u001b[39m'\u001b[39m\u001b[39mArticle `download()` failed with \u001b[39m\u001b[39m%s\u001b[39;00m\u001b[39m on URL \u001b[39m\u001b[39m%s\u001b[39;00m\u001b[39m'\u001b[39m \u001b[39m%\u001b[39m\n\u001b[0;32m    532\u001b[0m           (\u001b[39mself\u001b[39m\u001b[39m.\u001b[39mdownload_exception_msg, \u001b[39mself\u001b[39m\u001b[39m.\u001b[39murl))\n",
      "\u001b[1;31mArticleException\u001b[0m: Article `download()` failed with No connection adapters were found for ':/@KawaTweets We have escalated your request with India Traffic Division for necessary action.' on URL :/@KawaTweets We have escalated your request with India Traffic Division for necessary action."
     ]
    }
   ],
   "source": [
    "location = locationtagger.find_locations(str(\"@KawaTweets We have escalated your request with India Traffic Division for necessary action.\")).other_countries\n"
   ]
  },
  {
   "cell_type": "code",
   "execution_count": 4,
   "metadata": {},
   "outputs": [],
   "source": [
    "df['location'] = np.array([str(tweet).split(\"Traffic Division\")[0].split(' ')[-2] for tweet in df['Tweets'].values])"
   ]
  },
  {
   "cell_type": "code",
   "execution_count": 5,
   "metadata": {},
   "outputs": [
    {
     "data": {
      "text/html": [
       "<div>\n",
       "<style scoped>\n",
       "    .dataframe tbody tr th:only-of-type {\n",
       "        vertical-align: middle;\n",
       "    }\n",
       "\n",
       "    .dataframe tbody tr th {\n",
       "        vertical-align: top;\n",
       "    }\n",
       "\n",
       "    .dataframe thead th {\n",
       "        text-align: right;\n",
       "    }\n",
       "</style>\n",
       "<table border=\"1\" class=\"dataframe\">\n",
       "  <thead>\n",
       "    <tr style=\"text-align: right;\">\n",
       "      <th></th>\n",
       "      <th>Unnamed: 0</th>\n",
       "      <th>Tweets</th>\n",
       "      <th>id</th>\n",
       "      <th>len</th>\n",
       "      <th>date</th>\n",
       "      <th>time</th>\n",
       "      <th>source</th>\n",
       "      <th>likes</th>\n",
       "      <th>retweets</th>\n",
       "      <th>location</th>\n",
       "    </tr>\n",
       "  </thead>\n",
       "  <tbody>\n",
       "    <tr>\n",
       "      <th>0</th>\n",
       "      <td>0</td>\n",
       "      <td>@KawaTweets We have escalated your request wit...</td>\n",
       "      <td>1578767797739745280</td>\n",
       "      <td>94</td>\n",
       "      <td>2022-10-08</td>\n",
       "      <td>15:22:29</td>\n",
       "      <td>Twitter Web App</td>\n",
       "      <td>0</td>\n",
       "      <td>0</td>\n",
       "      <td>Dahisar</td>\n",
       "    </tr>\n",
       "    <tr>\n",
       "      <th>1</th>\n",
       "      <td>1</td>\n",
       "      <td>@its_yashchauhan We have forwarded your concer...</td>\n",
       "      <td>1578766466694156289</td>\n",
       "      <td>99</td>\n",
       "      <td>2022-10-08</td>\n",
       "      <td>15:17:12</td>\n",
       "      <td>Twitter Web App</td>\n",
       "      <td>0</td>\n",
       "      <td>0</td>\n",
       "      <td>Santacruz</td>\n",
       "    </tr>\n",
       "    <tr>\n",
       "      <th>2</th>\n",
       "      <td>2</td>\n",
       "      <td>@DeveshParadkar We have forwarded your concern...</td>\n",
       "      <td>1578764441734516737</td>\n",
       "      <td>93</td>\n",
       "      <td>2022-10-08</td>\n",
       "      <td>15:09:09</td>\n",
       "      <td>Twitter Web App</td>\n",
       "      <td>2</td>\n",
       "      <td>0</td>\n",
       "      <td>Malad</td>\n",
       "    </tr>\n",
       "    <tr>\n",
       "      <th>3</th>\n",
       "      <td>3</td>\n",
       "      <td>@darpandalal We have informed concern Traffic ...</td>\n",
       "      <td>1578763782335369219</td>\n",
       "      <td>78</td>\n",
       "      <td>2022-10-08</td>\n",
       "      <td>15:06:32</td>\n",
       "      <td>Twitter Web App</td>\n",
       "      <td>0</td>\n",
       "      <td>0</td>\n",
       "      <td>concern</td>\n",
       "    </tr>\n",
       "    <tr>\n",
       "      <th>4</th>\n",
       "      <td>4</td>\n",
       "      <td>@JsJayeshgshah We have escalated your request ...</td>\n",
       "      <td>1578759561510801409</td>\n",
       "      <td>99</td>\n",
       "      <td>2022-10-08</td>\n",
       "      <td>14:49:46</td>\n",
       "      <td>Twitter Web App</td>\n",
       "      <td>0</td>\n",
       "      <td>0</td>\n",
       "      <td>Kandivali</td>\n",
       "    </tr>\n",
       "  </tbody>\n",
       "</table>\n",
       "</div>"
      ],
      "text/plain": [
       "   Unnamed: 0                                             Tweets  \\\n",
       "0           0  @KawaTweets We have escalated your request wit...   \n",
       "1           1  @its_yashchauhan We have forwarded your concer...   \n",
       "2           2  @DeveshParadkar We have forwarded your concern...   \n",
       "3           3  @darpandalal We have informed concern Traffic ...   \n",
       "4           4  @JsJayeshgshah We have escalated your request ...   \n",
       "\n",
       "                    id  len        date      time           source  likes  \\\n",
       "0  1578767797739745280   94  2022-10-08  15:22:29  Twitter Web App      0   \n",
       "1  1578766466694156289   99  2022-10-08  15:17:12  Twitter Web App      0   \n",
       "2  1578764441734516737   93  2022-10-08  15:09:09  Twitter Web App      2   \n",
       "3  1578763782335369219   78  2022-10-08  15:06:32  Twitter Web App      0   \n",
       "4  1578759561510801409   99  2022-10-08  14:49:46  Twitter Web App      0   \n",
       "\n",
       "   retweets   location  \n",
       "0         0    Dahisar  \n",
       "1         0  Santacruz  \n",
       "2         0      Malad  \n",
       "3         0    concern  \n",
       "4         0  Kandivali  "
      ]
     },
     "execution_count": 5,
     "metadata": {},
     "output_type": "execute_result"
    }
   ],
   "source": [
    "df.head()  "
   ]
  },
  {
   "cell_type": "code",
   "execution_count": null,
   "metadata": {},
   "outputs": [],
   "source": []
  }
 ],
 "metadata": {
  "kernelspec": {
   "display_name": "Python 3.10.5 64-bit",
   "language": "python",
   "name": "python3"
  },
  "language_info": {
   "codemirror_mode": {
    "name": "ipython",
    "version": 3
   },
   "file_extension": ".py",
   "mimetype": "text/x-python",
   "name": "python",
   "nbconvert_exporter": "python",
   "pygments_lexer": "ipython3",
   "version": "3.10.5"
  },
  "orig_nbformat": 4,
  "vscode": {
   "interpreter": {
    "hash": "26de051ba29f2982a8de78e945f0abaf191376122a1563185a90213a26c5da77"
   }
  }
 },
 "nbformat": 4,
 "nbformat_minor": 2
}
